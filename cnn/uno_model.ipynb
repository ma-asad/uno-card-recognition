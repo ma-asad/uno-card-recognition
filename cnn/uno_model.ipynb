{
 "cells": [
  {
   "cell_type": "markdown",
   "metadata": {},
   "source": [
    "# 1. Setup & Dependencies"
   ]
  },
  {
   "cell_type": "code",
   "execution_count": null,
   "metadata": {},
   "outputs": [],
   "source": [
    "# Install requirements.tx\n",
    "\n",
    "!pip install -r requirements.txt"
   ]
  },
  {
   "cell_type": "code",
   "execution_count": null,
   "metadata": {},
   "outputs": [],
   "source": [
    "!pip install --upgrade torch torchvision"
   ]
  },
  {
   "cell_type": "code",
   "execution_count": null,
   "metadata": {},
   "outputs": [],
   "source": [
    "!python --version"
   ]
  },
  {
   "cell_type": "code",
   "execution_count": null,
   "metadata": {},
   "outputs": [],
   "source": [
    "# Check cuda version\n",
    "\n",
    "!nvcc --version"
   ]
  },
  {
   "cell_type": "markdown",
   "metadata": {},
   "source": [
    "## 1.1. Import statements"
   ]
  },
  {
   "cell_type": "code",
   "execution_count": 1,
   "metadata": {},
   "outputs": [],
   "source": [
    "%matplotlib inline"
   ]
  },
  {
   "cell_type": "code",
   "execution_count": 2,
   "metadata": {},
   "outputs": [],
   "source": [
    "import os\n",
    "\n",
    "# Configure Pytorch to use 'cudaMallocAsync' as the allocator\n",
    "os.environ['PYTORCH_CUDA_ALLOC_CONF'] = 'backend:cudaMallocAsync'"
   ]
  },
  {
   "cell_type": "code",
   "execution_count": 3,
   "metadata": {},
   "outputs": [],
   "source": [
    "import torch\n",
    "import torch.nn as nn\n",
    "import time\n",
    "import gc\n",
    "import matplotlib.pyplot as plt\n",
    "from torchinfo import summary\n",
    "from tqdm import tqdm\n",
    "from PIL import Image\n",
    "from torch.utils.data import DataLoader\n",
    "from torch.amp import autocast, GradScaler\n",
    "from torchvision.transforms import v2\n",
    "from torchvision.datasets import ImageFolder"
   ]
  },
  {
   "cell_type": "markdown",
   "metadata": {},
   "source": [
    "## 1.2. Device configuration"
   ]
  },
  {
   "cell_type": "code",
   "execution_count": 4,
   "metadata": {},
   "outputs": [],
   "source": [
    "def get_device() -> torch.device:\n",
    "    \"\"\"Get the best available device for PyTorch.\"\"\"\n",
    "    if torch.cuda.is_available():\n",
    "        device = \"cuda\"\n",
    "\n",
    "        # The flag below controls whether to allow TF32 on matmul.\n",
    "        torch.backends.cuda.matmul.allow_tf32 = True\n",
    "        # The flag below controls whether to allow TF32 on cuDNN.\n",
    "        torch.backends.cudnn.allow_tf32 = True\n",
    "\n",
    "        # Print GPU info\n",
    "        print(f\"Using CUDA device: {torch.cuda.get_device_name(0)}\")\n",
    "\n",
    "        # Set up GPU memory management\n",
    "        memory_limit_mb = 4095.5  # Adjust as needed\n",
    "\n",
    "        # Fetching total memory of GPU\n",
    "        total_memory = torch.cuda.get_device_properties(0).total_memory\n",
    "        print(f\"Total GPU memory: {total_memory / 1024**2:.2f} MB\")\n",
    "\n",
    "        # Setting memory limit\n",
    "        memory_limit = memory_limit_mb * 1024 ** 2\n",
    "        memory_fraction = memory_limit / total_memory\n",
    "        torch.cuda.set_per_process_memory_fraction(memory_fraction, device=0)\n",
    "\n",
    "        print(f\"Set GPU memory fraction to {memory_fraction:.2%}\")\n",
    "\n",
    "        # Empty cache to measure memory usage\n",
    "        torch.cuda.empty_cache()\n",
    "    elif torch.backends.mps.is_available():\n",
    "        device = \"mps\"\n",
    "        print(\"Using Apple Silicon MPS device\")\n",
    "    else:\n",
    "        device = \"cpu\"\n",
    "        print(\"Using CPU device\")\n",
    "\n",
    "    return torch.device(device)"
   ]
  },
  {
   "cell_type": "code",
   "execution_count": 5,
   "metadata": {},
   "outputs": [
    {
     "name": "stdout",
     "output_type": "stream",
     "text": [
      "Using CUDA device: NVIDIA GeForce RTX 3050 Ti Laptop GPU\n",
      "Total GPU memory: 4095.50 MB\n",
      "Set GPU memory fraction to 100.00%\n"
     ]
    }
   ],
   "source": [
    "# GPU optimization\n",
    "torch.set_float32_matmul_precision('high')\n",
    "\n",
    "# Set device\n",
    "device = get_device()"
   ]
  },
  {
   "cell_type": "code",
   "execution_count": 6,
   "metadata": {},
   "outputs": [],
   "source": [
    "pin_memory = True if device.type == 'cuda' else False\n",
    "pin_memory_device = 'cuda' if device.type == 'cuda' else ''"
   ]
  },
  {
   "cell_type": "markdown",
   "metadata": {},
   "source": [
    "# 2. Load & transform data"
   ]
  },
  {
   "cell_type": "code",
   "execution_count": 7,
   "metadata": {},
   "outputs": [],
   "source": [
    "# Input shape constants, width, height, and number of channels\n",
    "IMG_WIDTH = 384\n",
    "IMG_HEIGHT = 216\n",
    "IMG_CHANNELS = 3"
   ]
  },
  {
   "cell_type": "markdown",
   "metadata": {},
   "source": [
    "## 2.1. Normalize the dataset"
   ]
  },
  {
   "cell_type": "code",
   "execution_count": 8,
   "metadata": {},
   "outputs": [],
   "source": [
    "# Transform without normalization\n",
    "initial_transforms = v2.Compose([\n",
    "    v2.Resize((IMG_WIDTH, IMG_HEIGHT)),\n",
    "    v2.ToImage(),\n",
    "    v2.ToDtype(torch.float32, scale=True)\n",
    "])"
   ]
  },
  {
   "cell_type": "code",
   "execution_count": 9,
   "metadata": {},
   "outputs": [],
   "source": [
    "# Create temporary dataset to calculate mean and std\n",
    "temp_dataset = ImageFolder(root='../data/merged_pool', transform=initial_transforms)\n",
    "\n",
    "temp_loader = DataLoader(temp_dataset, batch_size=64, shuffle=False, num_workers=6, pin_memory=pin_memory, pin_memory_device=pin_memory_device)"
   ]
  },
  {
   "cell_type": "code",
   "execution_count": 10,
   "metadata": {
    "scrolled": true
   },
   "outputs": [
    {
     "name": "stdout",
     "output_type": "stream",
     "text": [
      "Computing dataset statistics using device: cuda\n",
      "Number of images to process: 12257\n"
     ]
    },
    {
     "name": "stderr",
     "output_type": "stream",
     "text": [
      "Computing mean/std:   2%|█                                               | 4/192 [00:02<01:20,  2.33it/s]"
     ]
    },
    {
     "name": "stdout",
     "output_type": "stream",
     "text": [
      "\n",
      "Processed 0 images in 2.03s\n"
     ]
    },
    {
     "name": "stderr",
     "output_type": "stream",
     "text": [
      "Computing mean/std:   6%|██▋                                            | 11/192 [00:04<00:48,  3.76it/s]"
     ]
    },
    {
     "name": "stdout",
     "output_type": "stream",
     "text": [
      "\n",
      "Processed 640 images in 4.05s\n"
     ]
    },
    {
     "name": "stderr",
     "output_type": "stream",
     "text": [
      "Computing mean/std:   8%|███▋                                           | 15/192 [00:05<00:55,  3.18it/s]"
     ]
    },
    {
     "name": "stdout",
     "output_type": "stream",
     "text": [
      "\n",
      "Processed 1280 images in 5.40s\n"
     ]
    },
    {
     "name": "stderr",
     "output_type": "stream",
     "text": [
      "Computing mean/std:  16%|███████▌                                       | 31/192 [00:08<00:32,  4.90it/s]"
     ]
    },
    {
     "name": "stdout",
     "output_type": "stream",
     "text": [
      "\n",
      "Processed 1920 images in 8.40s\n"
     ]
    },
    {
     "name": "stderr",
     "output_type": "stream",
     "text": [
      "Computing mean/std:  19%|█████████                                      | 37/192 [00:10<00:41,  3.78it/s]"
     ]
    },
    {
     "name": "stdout",
     "output_type": "stream",
     "text": [
      "\n",
      "Processed 2560 images in 10.63s\n"
     ]
    },
    {
     "name": "stderr",
     "output_type": "stream",
     "text": [
      "Computing mean/std:  26%|███████████▉                                   | 49/192 [00:14<00:40,  3.51it/s]"
     ]
    },
    {
     "name": "stdout",
     "output_type": "stream",
     "text": [
      "\n",
      "Processed 3200 images in 14.14s\n"
     ]
    },
    {
     "name": "stderr",
     "output_type": "stream",
     "text": [
      "Computing mean/std:  34%|███████████████▉                               | 65/192 [00:17<00:27,  4.63it/s]"
     ]
    },
    {
     "name": "stdout",
     "output_type": "stream",
     "text": [
      "\n",
      "Processed 3840 images in 17.30s\n"
     ]
    },
    {
     "name": "stderr",
     "output_type": "stream",
     "text": [
      "Computing mean/std:  37%|█████████████████▍                             | 71/192 [00:19<00:26,  4.53it/s]"
     ]
    },
    {
     "name": "stdout",
     "output_type": "stream",
     "text": [
      "\n",
      "Processed 4480 images in 19.09s\n"
     ]
    },
    {
     "name": "stderr",
     "output_type": "stream",
     "text": [
      "Computing mean/std:  41%|███████████████████▎                           | 79/192 [00:22<00:36,  3.12it/s]"
     ]
    },
    {
     "name": "stdout",
     "output_type": "stream",
     "text": [
      "\n",
      "Processed 5120 images in 22.30s\n"
     ]
    },
    {
     "name": "stderr",
     "output_type": "stream",
     "text": [
      "Computing mean/std:  47%|██████████████████████▎                        | 91/192 [00:25<00:29,  3.43it/s]"
     ]
    },
    {
     "name": "stdout",
     "output_type": "stream",
     "text": [
      "\n",
      "Processed 5760 images in 25.73s\n"
     ]
    },
    {
     "name": "stderr",
     "output_type": "stream",
     "text": [
      "Computing mean/std:  51%|███████████████████████▉                       | 98/192 [00:27<00:25,  3.70it/s]"
     ]
    },
    {
     "name": "stdout",
     "output_type": "stream",
     "text": [
      "\n",
      "Processed 6400 images in 27.51s\n"
     ]
    },
    {
     "name": "stderr",
     "output_type": "stream",
     "text": [
      "Computing mean/std:  57%|██████████████████████████▎                   | 110/192 [00:31<00:28,  2.84it/s]"
     ]
    },
    {
     "name": "stdout",
     "output_type": "stream",
     "text": [
      "\n",
      "Processed 7040 images in 31.41s\n"
     ]
    },
    {
     "name": "stderr",
     "output_type": "stream",
     "text": [
      "Computing mean/std:  63%|████████████████████████████▉                 | 121/192 [00:33<00:16,  4.25it/s]"
     ]
    },
    {
     "name": "stdout",
     "output_type": "stream",
     "text": [
      "\n",
      "Processed 7680 images in 33.53s\n"
     ]
    },
    {
     "name": "stderr",
     "output_type": "stream",
     "text": [
      "Computing mean/std:  64%|█████████████████████████████▏                | 122/192 [00:34<00:25,  2.74it/s]"
     ]
    },
    {
     "name": "stdout",
     "output_type": "stream",
     "text": [
      "\n",
      "Processed 8320 images in 34.40s\n"
     ]
    },
    {
     "name": "stderr",
     "output_type": "stream",
     "text": [
      "Computing mean/std:  73%|█████████████████████████████████▌            | 140/192 [00:37<00:12,  4.23it/s]"
     ]
    },
    {
     "name": "stdout",
     "output_type": "stream",
     "text": [
      "\n",
      "Processed 8960 images in 37.59s\n"
     ]
    },
    {
     "name": "stderr",
     "output_type": "stream",
     "text": [
      "Computing mean/std:  79%|████████████████████████████████████▏         | 151/192 [00:39<00:08,  5.01it/s]"
     ]
    },
    {
     "name": "stdout",
     "output_type": "stream",
     "text": [
      "\n",
      "Processed 9600 images in 39.59s\n"
     ]
    },
    {
     "name": "stderr",
     "output_type": "stream",
     "text": [
      "Computing mean/std:  82%|█████████████████████████████████████▊        | 158/192 [00:42<00:10,  3.23it/s]"
     ]
    },
    {
     "name": "stdout",
     "output_type": "stream",
     "text": [
      "\n",
      "Processed 10240 images in 42.34s\n"
     ]
    },
    {
     "name": "stderr",
     "output_type": "stream",
     "text": [
      "Computing mean/std:  89%|████████████████████████████████████████▉     | 171/192 [00:45<00:06,  3.01it/s]"
     ]
    },
    {
     "name": "stdout",
     "output_type": "stream",
     "text": [
      "\n",
      "Processed 10880 images in 45.91s\n"
     ]
    },
    {
     "name": "stderr",
     "output_type": "stream",
     "text": [
      "Computing mean/std:  92%|██████████████████████████████████████████▏   | 176/192 [00:47<00:04,  3.26it/s]"
     ]
    },
    {
     "name": "stdout",
     "output_type": "stream",
     "text": [
      "\n",
      "Processed 11520 images in 47.35s\n"
     ]
    },
    {
     "name": "stderr",
     "output_type": "stream",
     "text": [
      "Computing mean/std: 100%|██████████████████████████████████████████████| 192/192 [00:50<00:00,  3.81it/s]\n"
     ]
    },
    {
     "name": "stdout",
     "output_type": "stream",
     "text": [
      "\n",
      "Processed 12160 images in 50.34s\n",
      "\n",
      "Total processing time: 50.42 seconds\n",
      "Dataset mean: [0.5479778051376343, 0.526210367679596, 0.4944702088832855]\n",
      "Dataset std: [0.2237844169139862, 0.23763211071491241, 0.26044926047325134]\n"
     ]
    }
   ],
   "source": [
    "calc_stats = True\n",
    "\n",
    "if calc_stats:\n",
    "    print(f\"Computing dataset statistics using device: {device}\")\n",
    "    print(f\"Number of images to process: {len(temp_dataset)}\")\n",
    "\n",
    "    # Initialize tensors to accumulate the sum and squared sum of channels\n",
    "    channels_sum = torch.zeros(3, device=device)\n",
    "    channels_sqrd_sum = torch.zeros(3, device=device)\n",
    "    num_batches = 0\n",
    "    start_time = time.time()\n",
    "\n",
    "    # Iterating over the data loader with a progress bar\n",
    "    for batch_idx, (data, _) in enumerate(tqdm(temp_loader, desc=\"Computing mean/std\")):\n",
    "        # Move data to the specified device\n",
    "        data = data.to(device, non_blocking=True)\n",
    "\n",
    "        # Used mixed precision for faster computation\n",
    "        with autocast(device.type):\n",
    "            # Calculating and adding the mean and squared mean of each channel\n",
    "            channels_sum += torch.mean(data, dim=[0, 2, 3])\n",
    "            channels_sqrd_sum += torch.mean(data ** 2, dim=[0, 2, 3])\n",
    "        num_batches += 1\n",
    "\n",
    "        if batch_idx % 10 == 0:\n",
    "            batch_time = time.time() - start_time\n",
    "            print(f\"\\nProcessed {batch_idx * temp_loader.batch_size} images in {batch_time:.2f}s\")\n",
    "\n",
    "    # Calculate overall mean and standard deviation\n",
    "    mean = channels_sum / num_batches\n",
    "    std = torch.sqrt((channels_sqrd_sum / num_batches) - (mean ** 2))\n",
    "\n",
    "    mean = mean.cpu().tolist()\n",
    "    std = std.cpu().tolist()\n",
    "\n",
    "    total_time = time.time() - start_time\n",
    "    print(f\"\\nTotal processing time: {total_time:.2f} seconds\")\n",
    "    print(f\"Dataset mean: {mean}\")\n",
    "    print(f\"Dataset std: {std}\")\n",
    "\n",
    "    # Release memory\n",
    "    del temp_dataset, temp_loader, channels_sum, channels_sqrd_sum, data\n",
    "    gc.collect()\n",
    "\n",
    "    torch.cuda.empty_cache()\n",
    "else:\n",
    "    mean=[0.5479778051376343, 0.526210367679596, 0.4944702088832855]\n",
    "    std=[0.2237844169139862, 0.23763211071491241, 0.26044926047325134]"
   ]
  },
  {
   "cell_type": "markdown",
   "metadata": {},
   "source": [
    "## 2.2. Define transforms"
   ]
  },
  {
   "cell_type": "code",
   "execution_count": 11,
   "metadata": {},
   "outputs": [],
   "source": [
    "# Transform and data augmentation for training dataset\n",
    "train_transforms = v2.Compose([\n",
    "    v2.Resize((384, 216)),\n",
    "    v2.RandomVerticalFlip(p=0.5),\n",
    "    v2.RandomRotation(degrees=10),\n",
    "    v2.ColorJitter(brightness=0.1, contrast=0.1),\n",
    "    v2.RandomPerspective(distortion_scale=0.3, p=0.3),\n",
    "    v2.ToImage(),\n",
    "    v2.ToDtype(torch.float32, scale=True),\n",
    "    v2.Normalize(mean=mean, std=std)\n",
    "])"
   ]
  },
  {
   "cell_type": "code",
   "execution_count": 12,
   "metadata": {},
   "outputs": [],
   "source": [
    "# Transform for validation dataset\n",
    "val_transforms = v2.Compose([\n",
    "    v2.Resize((384, 216)),\n",
    "    v2.ToImage(),\n",
    "    v2.ToDtype(torch.float32, scale=True),\n",
    "    v2.Normalize(mean=mean, std=std),\n",
    "])"
   ]
  },
  {
   "cell_type": "markdown",
   "metadata": {},
   "source": [
    "# 3. Partition dataset"
   ]
  },
  {
   "cell_type": "code",
   "execution_count": 13,
   "metadata": {},
   "outputs": [],
   "source": [
    "# Load the training and validation datasets with appropriate transforms\n",
    "train_data = ImageFolder(root='../data/merged_pool', transform=train_transforms)\n",
    "\n",
    "val_data = ImageFolder(root='../data/validation_pool', transform=val_transforms)"
   ]
  },
  {
   "cell_type": "code",
   "execution_count": 14,
   "metadata": {},
   "outputs": [],
   "source": [
    "# Create DataLoaders for training and validation datasets\n",
    "train_loader = DataLoader(train_data, batch_size=64, shuffle=True, num_workers=6, pin_memory=pin_memory, pin_memory_device=pin_memory_device)\n",
    "\n",
    "val_loader = DataLoader(val_data, batch_size=64, shuffle=False, num_workers=6, pin_memory=pin_memory, pin_memory_device=pin_memory_device)  "
   ]
  },
  {
   "cell_type": "markdown",
   "metadata": {},
   "source": [
    "# 4. Building the convolutional neural network"
   ]
  },
  {
   "cell_type": "code",
   "execution_count": 15,
   "metadata": {},
   "outputs": [],
   "source": [
    "class UnoSymbolClassifier(nn.Module):\n",
    "    def __init__(self) -> None:\n",
    "        super().__init__()\n",
    "\n",
    "        # First convolutional block\n",
    "        self.conv1_block = nn.Sequential(\n",
    "            # 1x1 convolution to reduce channel dimensions\n",
    "            nn.Conv2d(3, 8, 1, 1), \n",
    "            # Batch normalization for stability           \n",
    "            nn.BatchNorm2d(8),               \n",
    "            nn.ReLU(),\n",
    "            # Padding to maintain spatial dimensions                        \n",
    "            nn.ReflectionPad2d(1), \n",
    "            # 3x3 convolution to capture more spatial features           \n",
    "            nn.Conv2d(8, 16, 3, 1),           \n",
    "            nn.BatchNorm2d(16),\n",
    "            nn.ReLU(),\n",
    "            nn.Conv2d(16, 16, 1, 1),\n",
    "            nn.BatchNorm2d(16),\n",
    "            nn.ReLU(),\n",
    "            # Max pooling to reduce spatial dimensions\n",
    "            nn.MaxPool2d(2, 2),               \n",
    "        )\n",
    "\n",
    "        # Second convolutional block\n",
    "        self.conv2_block = nn.Sequential(\n",
    "            nn.Conv2d(16, 16, 1, 1),\n",
    "            nn.BatchNorm2d(16),\n",
    "            nn.ReLU(),\n",
    "            nn.ReflectionPad2d(1),\n",
    "            nn.Conv2d(16, 32, 3, 1),\n",
    "            nn.BatchNorm2d(32),\n",
    "            nn.ReLU(),\n",
    "            nn.Conv2d(32, 32, 1, 1),\n",
    "            nn.BatchNorm2d(32),\n",
    "            nn.ReLU(),\n",
    "            nn.MaxPool2d(2, 2),\n",
    "        )\n",
    "\n",
    "        # Third convolutional block\n",
    "        self.conv3_block = nn.Sequential(\n",
    "            nn.Conv2d(32, 32, 1, 1),\n",
    "            nn.BatchNorm2d(32),\n",
    "            nn.ReLU(),\n",
    "            nn.ReflectionPad2d(1),\n",
    "            nn.Conv2d(32, 64, 3, 1),\n",
    "            nn.BatchNorm2d(64),\n",
    "            nn.ReLU(),\n",
    "            nn.Conv2d(64, 64, 1, 1),\n",
    "            nn.BatchNorm2d(64),\n",
    "            nn.ReLU(),\n",
    "            nn.MaxPool2d(2, 2),\n",
    "        )\n",
    "\n",
    "        # Fourth convolutional block\n",
    "        self.conv4_block = nn.Sequential(\n",
    "            nn.Conv2d(64, 64, 1, 1),\n",
    "            nn.BatchNorm2d(64),\n",
    "            nn.ReLU(),\n",
    "            nn.ReflectionPad2d(1),\n",
    "            nn.Conv2d(64, 128, 3, 1),\n",
    "            nn.BatchNorm2d(128),\n",
    "            nn.ReLU(),\n",
    "            nn.Conv2d(128, 128, 1, 1),\n",
    "            nn.BatchNorm2d(128),\n",
    "            nn.ReLU(),\n",
    "            nn.MaxPool2d(2, 2),\n",
    "        )\n",
    "\n",
    "        # Flatten layer to convert 2D feature maps to 1D feature vectors\n",
    "        self.flatten = nn.Flatten()\n",
    "\n",
    "        # First fully connected layer\n",
    "        self.fc1 = nn.Sequential(\n",
    "            nn.Linear(128 * (IMG_HEIGHT // 16) * (IMG_WIDTH // 16), 64),\n",
    "            nn.BatchNorm1d(64),\n",
    "            nn.ReLU(),\n",
    "            # Dropout for regularization\n",
    "            nn.Dropout(0.2)  \n",
    "        )\n",
    "\n",
    "        # Second fully connected layer\n",
    "        self.fc2 = nn.Sequential(\n",
    "            nn.Linear(64, 128),\n",
    "            nn.BatchNorm1d(128),\n",
    "            nn.ReLU(),\n",
    "            nn.Dropout(0.2)\n",
    "        )\n",
    "\n",
    "        # Third fully connected layer\n",
    "        self.fc3 = nn.Sequential(\n",
    "            nn.Linear(128, 64),\n",
    "            nn.BatchNorm1d(64),\n",
    "            nn.ReLU(),\n",
    "            nn.Dropout(0.2)\n",
    "        )\n",
    "\n",
    "        # Output layer\n",
    "        self.fc4 = nn.Linear(64, 54)  # 54 classes for classification\n",
    "\n",
    "    def forward(self, x) -> torch.utils.data.Dataset:\n",
    "        x = self.conv1_block(x)  \n",
    "        x = self.conv2_block(x)  \n",
    "        x = self.conv3_block(x)  \n",
    "        x = self.conv4_block(x)  \n",
    "        x = self.flatten(x)      \n",
    "        x = self.fc1(x)          \n",
    "        x = self.fc2(x)          \n",
    "        x = self.fc3(x)         \n",
    "        x = self.fc4(x)          \n",
    "\n",
    "        return x  "
   ]
  },
  {
   "cell_type": "markdown",
   "metadata": {},
   "source": [
    "## 4.2. Create the model"
   ]
  },
  {
   "cell_type": "code",
   "execution_count": 16,
   "metadata": {},
   "outputs": [
    {
     "data": {
      "text/plain": [
       "UnoSymbolClassifier(\n",
       "  (conv1_block): Sequential(\n",
       "    (0): Conv2d(3, 8, kernel_size=(1, 1), stride=(1, 1))\n",
       "    (1): BatchNorm2d(8, eps=1e-05, momentum=0.1, affine=True, track_running_stats=True)\n",
       "    (2): ReLU()\n",
       "    (3): ReflectionPad2d((1, 1, 1, 1))\n",
       "    (4): Conv2d(8, 16, kernel_size=(3, 3), stride=(1, 1))\n",
       "    (5): BatchNorm2d(16, eps=1e-05, momentum=0.1, affine=True, track_running_stats=True)\n",
       "    (6): ReLU()\n",
       "    (7): Conv2d(16, 16, kernel_size=(1, 1), stride=(1, 1))\n",
       "    (8): BatchNorm2d(16, eps=1e-05, momentum=0.1, affine=True, track_running_stats=True)\n",
       "    (9): ReLU()\n",
       "    (10): MaxPool2d(kernel_size=2, stride=2, padding=0, dilation=1, ceil_mode=False)\n",
       "  )\n",
       "  (conv2_block): Sequential(\n",
       "    (0): Conv2d(16, 16, kernel_size=(1, 1), stride=(1, 1))\n",
       "    (1): BatchNorm2d(16, eps=1e-05, momentum=0.1, affine=True, track_running_stats=True)\n",
       "    (2): ReLU()\n",
       "    (3): ReflectionPad2d((1, 1, 1, 1))\n",
       "    (4): Conv2d(16, 32, kernel_size=(3, 3), stride=(1, 1))\n",
       "    (5): BatchNorm2d(32, eps=1e-05, momentum=0.1, affine=True, track_running_stats=True)\n",
       "    (6): ReLU()\n",
       "    (7): Conv2d(32, 32, kernel_size=(1, 1), stride=(1, 1))\n",
       "    (8): BatchNorm2d(32, eps=1e-05, momentum=0.1, affine=True, track_running_stats=True)\n",
       "    (9): ReLU()\n",
       "    (10): MaxPool2d(kernel_size=2, stride=2, padding=0, dilation=1, ceil_mode=False)\n",
       "  )\n",
       "  (conv3_block): Sequential(\n",
       "    (0): Conv2d(32, 32, kernel_size=(1, 1), stride=(1, 1))\n",
       "    (1): BatchNorm2d(32, eps=1e-05, momentum=0.1, affine=True, track_running_stats=True)\n",
       "    (2): ReLU()\n",
       "    (3): ReflectionPad2d((1, 1, 1, 1))\n",
       "    (4): Conv2d(32, 64, kernel_size=(3, 3), stride=(1, 1))\n",
       "    (5): BatchNorm2d(64, eps=1e-05, momentum=0.1, affine=True, track_running_stats=True)\n",
       "    (6): ReLU()\n",
       "    (7): Conv2d(64, 64, kernel_size=(1, 1), stride=(1, 1))\n",
       "    (8): BatchNorm2d(64, eps=1e-05, momentum=0.1, affine=True, track_running_stats=True)\n",
       "    (9): ReLU()\n",
       "    (10): MaxPool2d(kernel_size=2, stride=2, padding=0, dilation=1, ceil_mode=False)\n",
       "  )\n",
       "  (conv4_block): Sequential(\n",
       "    (0): Conv2d(64, 64, kernel_size=(1, 1), stride=(1, 1))\n",
       "    (1): BatchNorm2d(64, eps=1e-05, momentum=0.1, affine=True, track_running_stats=True)\n",
       "    (2): ReLU()\n",
       "    (3): ReflectionPad2d((1, 1, 1, 1))\n",
       "    (4): Conv2d(64, 128, kernel_size=(3, 3), stride=(1, 1))\n",
       "    (5): BatchNorm2d(128, eps=1e-05, momentum=0.1, affine=True, track_running_stats=True)\n",
       "    (6): ReLU()\n",
       "    (7): Conv2d(128, 128, kernel_size=(1, 1), stride=(1, 1))\n",
       "    (8): BatchNorm2d(128, eps=1e-05, momentum=0.1, affine=True, track_running_stats=True)\n",
       "    (9): ReLU()\n",
       "    (10): MaxPool2d(kernel_size=2, stride=2, padding=0, dilation=1, ceil_mode=False)\n",
       "  )\n",
       "  (flatten): Flatten(start_dim=1, end_dim=-1)\n",
       "  (fc1): Sequential(\n",
       "    (0): Linear(in_features=39936, out_features=64, bias=True)\n",
       "    (1): BatchNorm1d(64, eps=1e-05, momentum=0.1, affine=True, track_running_stats=True)\n",
       "    (2): ReLU()\n",
       "    (3): Dropout(p=0.2, inplace=False)\n",
       "  )\n",
       "  (fc2): Sequential(\n",
       "    (0): Linear(in_features=64, out_features=128, bias=True)\n",
       "    (1): BatchNorm1d(128, eps=1e-05, momentum=0.1, affine=True, track_running_stats=True)\n",
       "    (2): ReLU()\n",
       "    (3): Dropout(p=0.2, inplace=False)\n",
       "  )\n",
       "  (fc3): Sequential(\n",
       "    (0): Linear(in_features=128, out_features=64, bias=True)\n",
       "    (1): BatchNorm1d(64, eps=1e-05, momentum=0.1, affine=True, track_running_stats=True)\n",
       "    (2): ReLU()\n",
       "    (3): Dropout(p=0.2, inplace=False)\n",
       "  )\n",
       "  (fc4): Linear(in_features=64, out_features=54, bias=True)\n",
       ")"
      ]
     },
     "execution_count": 16,
     "metadata": {},
     "output_type": "execute_result"
    }
   ],
   "source": [
    "# Create an instance of the model\n",
    "model = UnoSymbolClassifier()\n",
    "model.to(\"cpu\")"
   ]
  },
  {
   "cell_type": "code",
   "execution_count": 17,
   "metadata": {},
   "outputs": [
    {
     "data": {
      "text/plain": [
       "==========================================================================================\n",
       "Layer (type:depth-idx)                   Output Shape              Param #\n",
       "==========================================================================================\n",
       "UnoSymbolClassifier                      [64, 54]                  --\n",
       "├─Sequential: 1-1                        [64, 16, 108, 192]        --\n",
       "│    └─Conv2d: 2-1                       [64, 8, 216, 384]         32\n",
       "│    └─BatchNorm2d: 2-2                  [64, 8, 216, 384]         16\n",
       "│    └─ReLU: 2-3                         [64, 8, 216, 384]         --\n",
       "│    └─ReflectionPad2d: 2-4              [64, 8, 218, 386]         --\n",
       "│    └─Conv2d: 2-5                       [64, 16, 216, 384]        1,168\n",
       "│    └─BatchNorm2d: 2-6                  [64, 16, 216, 384]        32\n",
       "│    └─ReLU: 2-7                         [64, 16, 216, 384]        --\n",
       "│    └─Conv2d: 2-8                       [64, 16, 216, 384]        272\n",
       "│    └─BatchNorm2d: 2-9                  [64, 16, 216, 384]        32\n",
       "│    └─ReLU: 2-10                        [64, 16, 216, 384]        --\n",
       "│    └─MaxPool2d: 2-11                   [64, 16, 108, 192]        --\n",
       "├─Sequential: 1-2                        [64, 32, 54, 96]          --\n",
       "│    └─Conv2d: 2-12                      [64, 16, 108, 192]        272\n",
       "│    └─BatchNorm2d: 2-13                 [64, 16, 108, 192]        32\n",
       "│    └─ReLU: 2-14                        [64, 16, 108, 192]        --\n",
       "│    └─ReflectionPad2d: 2-15             [64, 16, 110, 194]        --\n",
       "│    └─Conv2d: 2-16                      [64, 32, 108, 192]        4,640\n",
       "│    └─BatchNorm2d: 2-17                 [64, 32, 108, 192]        64\n",
       "│    └─ReLU: 2-18                        [64, 32, 108, 192]        --\n",
       "│    └─Conv2d: 2-19                      [64, 32, 108, 192]        1,056\n",
       "│    └─BatchNorm2d: 2-20                 [64, 32, 108, 192]        64\n",
       "│    └─ReLU: 2-21                        [64, 32, 108, 192]        --\n",
       "│    └─MaxPool2d: 2-22                   [64, 32, 54, 96]          --\n",
       "├─Sequential: 1-3                        [64, 64, 27, 48]          --\n",
       "│    └─Conv2d: 2-23                      [64, 32, 54, 96]          1,056\n",
       "│    └─BatchNorm2d: 2-24                 [64, 32, 54, 96]          64\n",
       "│    └─ReLU: 2-25                        [64, 32, 54, 96]          --\n",
       "│    └─ReflectionPad2d: 2-26             [64, 32, 56, 98]          --\n",
       "│    └─Conv2d: 2-27                      [64, 64, 54, 96]          18,496\n",
       "│    └─BatchNorm2d: 2-28                 [64, 64, 54, 96]          128\n",
       "│    └─ReLU: 2-29                        [64, 64, 54, 96]          --\n",
       "│    └─Conv2d: 2-30                      [64, 64, 54, 96]          4,160\n",
       "│    └─BatchNorm2d: 2-31                 [64, 64, 54, 96]          128\n",
       "│    └─ReLU: 2-32                        [64, 64, 54, 96]          --\n",
       "│    └─MaxPool2d: 2-33                   [64, 64, 27, 48]          --\n",
       "├─Sequential: 1-4                        [64, 128, 13, 24]         --\n",
       "│    └─Conv2d: 2-34                      [64, 64, 27, 48]          4,160\n",
       "│    └─BatchNorm2d: 2-35                 [64, 64, 27, 48]          128\n",
       "│    └─ReLU: 2-36                        [64, 64, 27, 48]          --\n",
       "│    └─ReflectionPad2d: 2-37             [64, 64, 29, 50]          --\n",
       "│    └─Conv2d: 2-38                      [64, 128, 27, 48]         73,856\n",
       "│    └─BatchNorm2d: 2-39                 [64, 128, 27, 48]         256\n",
       "│    └─ReLU: 2-40                        [64, 128, 27, 48]         --\n",
       "│    └─Conv2d: 2-41                      [64, 128, 27, 48]         16,512\n",
       "│    └─BatchNorm2d: 2-42                 [64, 128, 27, 48]         256\n",
       "│    └─ReLU: 2-43                        [64, 128, 27, 48]         --\n",
       "│    └─MaxPool2d: 2-44                   [64, 128, 13, 24]         --\n",
       "├─Flatten: 1-5                           [64, 39936]               --\n",
       "├─Sequential: 1-6                        [64, 64]                  --\n",
       "│    └─Linear: 2-45                      [64, 64]                  2,555,968\n",
       "│    └─BatchNorm1d: 2-46                 [64, 64]                  128\n",
       "│    └─ReLU: 2-47                        [64, 64]                  --\n",
       "│    └─Dropout: 2-48                     [64, 64]                  --\n",
       "├─Sequential: 1-7                        [64, 128]                 --\n",
       "│    └─Linear: 2-49                      [64, 128]                 8,320\n",
       "│    └─BatchNorm1d: 2-50                 [64, 128]                 256\n",
       "│    └─ReLU: 2-51                        [64, 128]                 --\n",
       "│    └─Dropout: 2-52                     [64, 128]                 --\n",
       "├─Sequential: 1-8                        [64, 64]                  --\n",
       "│    └─Linear: 2-53                      [64, 64]                  8,256\n",
       "│    └─BatchNorm1d: 2-54                 [64, 64]                  128\n",
       "│    └─ReLU: 2-55                        [64, 64]                  --\n",
       "│    └─Dropout: 2-56                     [64, 64]                  --\n",
       "├─Linear: 1-9                            [64, 54]                  3,510\n",
       "==========================================================================================\n",
       "Total params: 2,703,446\n",
       "Trainable params: 2,703,446\n",
       "Non-trainable params: 0\n",
       "Total mult-adds (G): 31.61\n",
       "==========================================================================================\n",
       "Input size (MB): 63.70\n",
       "Forward/backward pass size (MB): 6370.39\n",
       "Params size (MB): 10.81\n",
       "Estimated Total Size (MB): 6444.90\n",
       "=========================================================================================="
      ]
     },
     "execution_count": 17,
     "metadata": {},
     "output_type": "execute_result"
    }
   ],
   "source": [
    "summary(model, input_size=(64, IMG_CHANNELS, IMG_HEIGHT, IMG_WIDTH))"
   ]
  },
  {
   "cell_type": "code",
   "execution_count": 18,
   "metadata": {},
   "outputs": [],
   "source": [
    "# Move the model to the specified device and compile it for faster performance\n",
    "model.to(device, non_blocking=True)\n",
    "model = torch.compile(model, backend=\"inductor\")\n",
    "\n",
    "torch.cuda.empty_cache()"
   ]
  },
  {
   "cell_type": "markdown",
   "metadata": {},
   "source": [
    "# 5. Optimising model parameters"
   ]
  },
  {
   "cell_type": "markdown",
   "metadata": {},
   "source": [
    "## 5.1. Learning parameters"
   ]
  },
  {
   "cell_type": "code",
   "execution_count": 19,
   "metadata": {},
   "outputs": [],
   "source": [
    "# Adjust the learning rate and weight decay for the optimizer and number of epochs\n",
    "LEARNING_RATE = 6.5e-4\n",
    "WEIGHT_DECAY = 1e-6\n",
    "EPOCHS = 40"
   ]
  },
  {
   "cell_type": "markdown",
   "metadata": {},
   "source": [
    "## 5.2. Optimizer & cost function"
   ]
  },
  {
   "cell_type": "code",
   "execution_count": 20,
   "metadata": {},
   "outputs": [],
   "source": [
    "loss_fn = nn.CrossEntropyLoss()"
   ]
  },
  {
   "cell_type": "code",
   "execution_count": 21,
   "metadata": {},
   "outputs": [],
   "source": [
    "# Use the Adam optimizer for training the model, with weight decay for regularization\n",
    "optimizer = torch.optim.Adam(model.parameters(), lr=LEARNING_RATE, weight_decay=WEIGHT_DECAY, fused=True)"
   ]
  },
  {
   "cell_type": "code",
   "execution_count": 22,
   "metadata": {},
   "outputs": [],
   "source": [
    "# Optimizer scheduler to reduce learning rate on plateauing of validation loss\n",
    "scheduler = torch.optim.lr_scheduler.ReduceLROnPlateau(optimizer, mode='min', factor=0.25, patience=5)"
   ]
  },
  {
   "cell_type": "markdown",
   "metadata": {},
   "source": [
    "# 6. Training the model"
   ]
  },
  {
   "cell_type": "markdown",
   "metadata": {},
   "source": [
    "## 6.1. Define train function"
   ]
  },
  {
   "cell_type": "code",
   "execution_count": 23,
   "metadata": {},
   "outputs": [],
   "source": [
    "def train_loop(dataloader, model, loss_fn, optimizer):\n",
    "    # Initialize gradient scaler for mixed precision\n",
    "    scaler = GradScaler()\n",
    "\n",
    "    # Total number of samples in the dataset\n",
    "    size = len(dataloader.dataset)\n",
    "    \n",
    "    # Set the model to training mode\n",
    "    model.train()\n",
    "\n",
    "    training_loss = 0.0\n",
    "    correct = 0\n",
    "    total = 0\n",
    "\n",
    "    for batch, (X, y) in enumerate(dataloader):\n",
    "        X, y = X.to(device, non_blocking=True), y.to(device, non_blocking=True)\n",
    "\n",
    "        # Reset gradients\n",
    "        optimizer.zero_grad()\n",
    "\n",
    "        with autocast(device.type):\n",
    "            # Forward pass to calculate predictions\n",
    "            pred = model(X)\n",
    "            # Calculate loss\n",
    "            loss = loss_fn(pred, y)\n",
    "\n",
    "        # Backpropagation\n",
    "        scaler.scale(loss).backward()\n",
    "        # Update model parameters\n",
    "        scaler.step(optimizer)\n",
    "        scaler.update()\n",
    "\n",
    "        training_loss += loss.item() * X.size(0)\n",
    "        \n",
    "        # Count correct predictions\n",
    "        correct += (pred.argmax(1) == y).type(torch.float32).sum().item()\n",
    "        total += y.size(0)\n",
    "\n",
    "        if batch % 100 == 0:\n",
    "            loss_item = loss.item()\n",
    "            current = batch * len(X)\n",
    "            print(f\"loss: {loss_item:>7f}  [{current:>5d}/{size:>5d}]\")\n",
    "\n",
    "    avg_loss = training_loss / total\n",
    "    accuracy = correct / total\n",
    "    return avg_loss, accuracy"
   ]
  },
  {
   "cell_type": "markdown",
   "metadata": {},
   "source": [
    "## 6.2. Define validate & test function"
   ]
  },
  {
   "cell_type": "code",
   "execution_count": 24,
   "metadata": {},
   "outputs": [],
   "source": [
    "def test_loop(dataloader, model, loss_fn):\n",
    "    # Set the model to evaluation mode\n",
    "    model.eval()\n",
    "\n",
    "    test_loss = 0.0\n",
    "    correct = 0\n",
    "    total = 0\n",
    "\n",
    "    # Disable gradient computation for evaluation to reduce memory usage and speed up computations\n",
    "    with torch.no_grad():\n",
    "        for X, y in dataloader:\n",
    "            X, y = X.to(device, non_blocking=True), y.to(device, non_blocking=True)  # Move data to device\n",
    "\n",
    "            with autocast(device.type):\n",
    "                pred = model(X)\n",
    "                loss = loss_fn(pred, y)\n",
    "\n",
    "            test_loss += loss.item() * X.size(0)\n",
    "            correct += (pred.argmax(1) == y).type(torch.float32).sum().item()\n",
    "            total += y.size(0)\n",
    "\n",
    "    avg_loss = test_loss / total\n",
    "    accuracy = correct / total\n",
    "    print(f\"Avg loss: {avg_loss:>8f}, Accuracy: {(100*accuracy):>0.1f}%\\n\")\n",
    "\n",
    "    return avg_loss, accuracy"
   ]
  },
  {
   "cell_type": "markdown",
   "metadata": {},
   "source": [
    "## 6.3. Define overfitting function"
   ]
  },
  {
   "cell_type": "code",
   "execution_count": 25,
   "metadata": {},
   "outputs": [],
   "source": [
    "def check_overfitting(train_loss, val_loss, train_acc, val_acc, threshold=0.1):\n",
    "    # Calculate the absolute difference between training and validation loss/accuracy\n",
    "    loss_gap = abs(train_loss - val_loss)\n",
    "    acc_gap = abs(train_acc - val_acc)\n",
    "\n",
    "    # Determine if overfitting is occurring based on the defined threshold\n",
    "    is_overfitting = (loss_gap > threshold) and (train_acc > val_acc + threshold)\n",
    "\n",
    "    if is_overfitting:\n",
    "        print(f\"Warning: Possible overfitting detected\")\n",
    "        print(f\"Loss gap: {loss_gap:.4f}, Accuracy gap: {acc_gap:.4f}\")\n",
    "\n",
    "    return is_overfitting"
   ]
  },
  {
   "cell_type": "markdown",
   "metadata": {},
   "source": [
    "## 6.4. Training loop"
   ]
  },
  {
   "cell_type": "code",
   "execution_count": 26,
   "metadata": {},
   "outputs": [],
   "source": [
    "train_losses = []\n",
    "val_losses = []\n",
    "train_accuracies = []\n",
    "val_accuracies = []\n",
    "epoch_times = []\n",
    "\n",
    "best_model_metrics = None\n",
    "stopped_early = False\n",
    "is_overfitting = 0\n",
    "patience = 300\n",
    "total_start_time = time.time()"
   ]
  },
  {
   "cell_type": "code",
   "execution_count": 27,
   "metadata": {
    "scrolled": true
   },
   "outputs": [
    {
     "name": "stdout",
     "output_type": "stream",
     "text": [
      "Epoch 1\n",
      "-------------------------------\n",
      "loss: 4.091339  [    0/12257]\n",
      "loss: 3.264954  [ 6400/12257]\n",
      "Avg loss: 2.842267, Accuracy: 14.6%\n",
      "\n",
      "Epoch 1 completed in 80.82 seconds\n",
      "Training Loss: 3.3769, Training Accuracy: 0.0725\n",
      "Validation Loss: 2.8423, Validation Accuracy: 0.1461\n",
      "\n",
      "Epoch 2\n",
      "-------------------------------\n",
      "loss: 2.837128  [    0/12257]\n",
      "loss: 2.589460  [ 6400/12257]\n",
      "Avg loss: 2.498717, Accuracy: 14.7%\n",
      "\n",
      "Epoch 2 completed in 61.40 seconds\n",
      "Training Loss: 2.6453, Training Accuracy: 0.1377\n",
      "Validation Loss: 2.4987, Validation Accuracy: 0.1468\n",
      "\n",
      "Epoch 3\n",
      "-------------------------------\n",
      "loss: 2.437561  [    0/12257]\n",
      "loss: 2.482157  [ 6400/12257]\n",
      "Avg loss: 2.264098, Accuracy: 21.5%\n",
      "\n",
      "Epoch 3 completed in 61.89 seconds\n",
      "Training Loss: 2.3232, Training Accuracy: 0.2114\n",
      "Validation Loss: 2.2641, Validation Accuracy: 0.2147\n",
      "\n",
      "Epoch 4\n",
      "-------------------------------\n",
      "loss: 2.077818  [    0/12257]\n",
      "loss: 1.834339  [ 6400/12257]\n",
      "Avg loss: 1.910511, Accuracy: 33.3%\n",
      "\n",
      "Epoch 4 completed in 58.21 seconds\n",
      "Training Loss: 1.9610, Training Accuracy: 0.3103\n",
      "Validation Loss: 1.9105, Validation Accuracy: 0.3333\n",
      "\n",
      "Epoch 5\n",
      "-------------------------------\n",
      "loss: 1.745585  [    0/12257]\n",
      "loss: 1.607356  [ 6400/12257]\n",
      "Avg loss: 1.482468, Accuracy: 48.0%\n",
      "\n",
      "Epoch 5 completed in 59.66 seconds\n",
      "Training Loss: 1.5883, Training Accuracy: 0.4432\n",
      "Validation Loss: 1.4825, Validation Accuracy: 0.4801\n",
      "\n",
      "Epoch 6\n",
      "-------------------------------\n",
      "loss: 1.334473  [    0/12257]\n",
      "loss: 1.189074  [ 6400/12257]\n",
      "Avg loss: 1.388458, Accuracy: 45.9%\n",
      "\n",
      "Epoch 6 completed in 57.75 seconds\n",
      "Training Loss: 1.2375, Training Accuracy: 0.5737\n",
      "Validation Loss: 1.3885, Validation Accuracy: 0.4588\n",
      "\n",
      "Warning: Possible overfitting detected\n",
      "Loss gap: 0.1510, Accuracy gap: 0.1149\n",
      "Epoch 7\n",
      "-------------------------------\n",
      "loss: 1.081325  [    0/12257]\n",
      "loss: 0.967628  [ 6400/12257]\n",
      "Avg loss: 0.939175, Accuracy: 66.9%\n",
      "\n",
      "Epoch 7 completed in 60.17 seconds\n",
      "Training Loss: 0.9419, Training Accuracy: 0.6939\n",
      "Validation Loss: 0.9392, Validation Accuracy: 0.6694\n",
      "\n",
      "Epoch 8\n",
      "-------------------------------\n",
      "loss: 0.560577  [    0/12257]\n",
      "loss: 0.636669  [ 6400/12257]\n",
      "Avg loss: 0.813511, Accuracy: 71.7%\n",
      "\n",
      "Epoch 8 completed in 56.81 seconds\n",
      "Training Loss: 0.7075, Training Accuracy: 0.7794\n",
      "Validation Loss: 0.8135, Validation Accuracy: 0.7167\n",
      "\n",
      "Epoch 9\n",
      "-------------------------------\n",
      "loss: 0.589796  [    0/12257]\n",
      "loss: 0.698092  [ 6400/12257]\n",
      "Avg loss: 0.499569, Accuracy: 84.3%\n",
      "\n",
      "Epoch 9 completed in 59.64 seconds\n",
      "Training Loss: 0.5497, Training Accuracy: 0.8325\n",
      "Validation Loss: 0.4996, Validation Accuracy: 0.8429\n",
      "\n",
      "Epoch 10\n",
      "-------------------------------\n",
      "loss: 0.509899  [    0/12257]\n",
      "loss: 0.510569  [ 6400/12257]\n",
      "Avg loss: 0.491274, Accuracy: 84.1%\n",
      "\n",
      "Epoch 10 completed in 57.05 seconds\n",
      "Training Loss: 0.4559, Training Accuracy: 0.8629\n",
      "Validation Loss: 0.4913, Validation Accuracy: 0.8409\n",
      "\n",
      "Epoch 11\n",
      "-------------------------------\n",
      "loss: 0.409282  [    0/12257]\n",
      "loss: 0.322176  [ 6400/12257]\n",
      "Avg loss: 0.902672, Accuracy: 71.0%\n",
      "\n",
      "Epoch 11 completed in 56.51 seconds\n",
      "Training Loss: 0.3749, Training Accuracy: 0.8934\n",
      "Validation Loss: 0.9027, Validation Accuracy: 0.7099\n",
      "\n",
      "Warning: Possible overfitting detected\n",
      "Loss gap: 0.5278, Accuracy gap: 0.1835\n",
      "Epoch 12\n",
      "-------------------------------\n",
      "loss: 0.388862  [    0/12257]\n",
      "loss: 0.300082  [ 6400/12257]\n",
      "Avg loss: 0.328053, Accuracy: 89.4%\n",
      "\n",
      "Epoch 12 completed in 56.38 seconds\n",
      "Training Loss: 0.3031, Training Accuracy: 0.9132\n",
      "Validation Loss: 0.3281, Validation Accuracy: 0.8937\n",
      "\n",
      "Epoch 13\n",
      "-------------------------------\n",
      "loss: 0.183085  [    0/12257]\n",
      "loss: 0.216555  [ 6400/12257]\n",
      "Avg loss: 0.215742, Accuracy: 93.8%\n",
      "\n",
      "Epoch 13 completed in 56.44 seconds\n",
      "Training Loss: 0.2562, Training Accuracy: 0.9265\n",
      "Validation Loss: 0.2157, Validation Accuracy: 0.9376\n",
      "\n",
      "Epoch 14\n",
      "-------------------------------\n",
      "loss: 0.315471  [    0/12257]\n",
      "loss: 0.158268  [ 6400/12257]\n",
      "Avg loss: 0.263269, Accuracy: 91.9%\n",
      "\n",
      "Epoch 14 completed in 56.70 seconds\n",
      "Training Loss: 0.2264, Training Accuracy: 0.9338\n",
      "Validation Loss: 0.2633, Validation Accuracy: 0.9191\n",
      "\n",
      "Epoch 15\n",
      "-------------------------------\n",
      "loss: 0.233621  [    0/12257]\n",
      "loss: 0.344885  [ 6400/12257]\n",
      "Avg loss: 0.227143, Accuracy: 92.3%\n",
      "\n",
      "Epoch 15 completed in 56.61 seconds\n",
      "Training Loss: 0.1974, Training Accuracy: 0.9448\n",
      "Validation Loss: 0.2271, Validation Accuracy: 0.9232\n",
      "\n",
      "Epoch 16\n",
      "-------------------------------\n",
      "loss: 0.204746  [    0/12257]\n",
      "loss: 0.118750  [ 6400/12257]\n",
      "Avg loss: 0.259722, Accuracy: 92.4%\n",
      "\n",
      "Epoch 16 completed in 56.62 seconds\n",
      "Training Loss: 0.1643, Training Accuracy: 0.9545\n",
      "Validation Loss: 0.2597, Validation Accuracy: 0.9239\n",
      "\n",
      "Epoch 17\n",
      "-------------------------------\n",
      "loss: 0.190524  [    0/12257]\n",
      "loss: 0.052538  [ 6400/12257]\n",
      "Avg loss: 0.103235, Accuracy: 97.6%\n",
      "\n",
      "Epoch 17 completed in 56.97 seconds\n",
      "Training Loss: 0.1455, Training Accuracy: 0.9611\n",
      "Validation Loss: 0.1032, Validation Accuracy: 0.9760\n",
      "\n",
      "Epoch 18\n",
      "-------------------------------\n",
      "loss: 0.081567  [    0/12257]\n",
      "loss: 0.131878  [ 6400/12257]\n",
      "Avg loss: 0.129373, Accuracy: 96.7%\n",
      "\n",
      "Epoch 18 completed in 58.64 seconds\n",
      "Training Loss: 0.1487, Training Accuracy: 0.9568\n",
      "Validation Loss: 0.1294, Validation Accuracy: 0.9671\n",
      "\n",
      "Epoch 19\n",
      "-------------------------------\n",
      "loss: 0.214241  [    0/12257]\n",
      "loss: 0.121097  [ 6400/12257]\n",
      "Avg loss: 0.160326, Accuracy: 95.3%\n",
      "\n",
      "Epoch 19 completed in 57.24 seconds\n",
      "Training Loss: 0.1191, Training Accuracy: 0.9665\n",
      "Validation Loss: 0.1603, Validation Accuracy: 0.9534\n",
      "\n",
      "Epoch 20\n",
      "-------------------------------\n",
      "loss: 0.104742  [    0/12257]\n",
      "loss: 0.210421  [ 6400/12257]\n",
      "Avg loss: 0.152411, Accuracy: 96.5%\n",
      "\n",
      "Epoch 20 completed in 57.16 seconds\n",
      "Training Loss: 0.1182, Training Accuracy: 0.9675\n",
      "Validation Loss: 0.1524, Validation Accuracy: 0.9650\n",
      "\n",
      "Epoch 21\n",
      "-------------------------------\n",
      "loss: 0.106261  [    0/12257]\n",
      "loss: 0.122920  [ 6400/12257]\n",
      "Avg loss: 0.100381, Accuracy: 97.0%\n",
      "\n",
      "Epoch 21 completed in 57.19 seconds\n",
      "Training Loss: 0.1041, Training Accuracy: 0.9712\n",
      "Validation Loss: 0.1004, Validation Accuracy: 0.9698\n",
      "\n",
      "Epoch 22\n",
      "-------------------------------\n",
      "loss: 0.120590  [    0/12257]\n",
      "loss: 0.110522  [ 6400/12257]\n",
      "Avg loss: 0.142052, Accuracy: 96.7%\n",
      "\n",
      "Epoch 22 completed in 56.94 seconds\n",
      "Training Loss: 0.1271, Training Accuracy: 0.9665\n",
      "Validation Loss: 0.1421, Validation Accuracy: 0.9671\n",
      "\n",
      "Epoch 23\n",
      "-------------------------------\n",
      "loss: 0.136586  [    0/12257]\n",
      "loss: 0.077106  [ 6400/12257]\n",
      "Avg loss: 0.181036, Accuracy: 95.7%\n",
      "\n",
      "Epoch 23 completed in 57.05 seconds\n",
      "Training Loss: 0.1063, Training Accuracy: 0.9684\n",
      "Validation Loss: 0.1810, Validation Accuracy: 0.9575\n",
      "\n",
      "Epoch 24\n",
      "-------------------------------\n",
      "loss: 0.055221  [    0/12257]\n",
      "loss: 0.034406  [ 6400/12257]\n",
      "Avg loss: 0.064145, Accuracy: 98.3%\n",
      "\n",
      "Epoch 24 completed in 56.28 seconds\n",
      "Training Loss: 0.0821, Training Accuracy: 0.9772\n",
      "Validation Loss: 0.0641, Validation Accuracy: 0.9829\n",
      "\n",
      "Epoch 25\n",
      "-------------------------------\n",
      "loss: 0.051123  [    0/12257]\n",
      "loss: 0.021029  [ 6400/12257]\n",
      "Avg loss: 0.108841, Accuracy: 97.4%\n",
      "\n",
      "Epoch 25 completed in 57.59 seconds\n",
      "Training Loss: 0.0868, Training Accuracy: 0.9745\n",
      "Validation Loss: 0.1088, Validation Accuracy: 0.9739\n",
      "\n",
      "Epoch 26\n",
      "-------------------------------\n",
      "loss: 0.126935  [    0/12257]\n",
      "loss: 0.168413  [ 6400/12257]\n",
      "Avg loss: 0.074047, Accuracy: 98.4%\n",
      "\n",
      "Epoch 26 completed in 56.42 seconds\n",
      "Training Loss: 0.0752, Training Accuracy: 0.9801\n",
      "Validation Loss: 0.0740, Validation Accuracy: 0.9835\n",
      "\n",
      "Epoch 27\n",
      "-------------------------------\n",
      "loss: 0.050472  [    0/12257]\n",
      "loss: 0.021726  [ 6400/12257]\n",
      "Avg loss: 1.688342, Accuracy: 75.0%\n",
      "\n",
      "Epoch 27 completed in 58.84 seconds\n",
      "Training Loss: 0.0594, Training Accuracy: 0.9836\n",
      "Validation Loss: 1.6883, Validation Accuracy: 0.7497\n",
      "\n",
      "Warning: Possible overfitting detected\n",
      "Loss gap: 1.6289, Accuracy gap: 0.2339\n",
      "Epoch 28\n",
      "-------------------------------\n",
      "loss: 0.040485  [    0/12257]\n",
      "loss: 0.086188  [ 6400/12257]\n",
      "Avg loss: 0.273089, Accuracy: 92.2%\n",
      "\n",
      "Epoch 28 completed in 56.48 seconds\n",
      "Training Loss: 0.0834, Training Accuracy: 0.9759\n",
      "Validation Loss: 0.2731, Validation Accuracy: 0.9218\n",
      "\n",
      "Epoch 29\n",
      "-------------------------------\n",
      "loss: 0.097734  [    0/12257]\n",
      "loss: 0.088663  [ 6400/12257]\n",
      "Avg loss: 0.135736, Accuracy: 96.6%\n",
      "\n",
      "Epoch 29 completed in 56.40 seconds\n",
      "Training Loss: 0.0879, Training Accuracy: 0.9753\n",
      "Validation Loss: 0.1357, Validation Accuracy: 0.9664\n",
      "\n",
      "Epoch 30\n",
      "-------------------------------\n",
      "loss: 0.054317  [    0/12257]\n",
      "loss: 0.062776  [ 6400/12257]\n",
      "Avg loss: 0.118611, Accuracy: 96.7%\n",
      "\n",
      "Epoch 30 completed in 56.57 seconds\n",
      "Training Loss: 0.0758, Training Accuracy: 0.9784\n",
      "Validation Loss: 0.1186, Validation Accuracy: 0.9671\n",
      "\n",
      "Epoch 31\n",
      "-------------------------------\n",
      "loss: 0.074321  [    0/12257]\n",
      "loss: 0.117458  [ 6400/12257]\n",
      "Avg loss: 0.071635, Accuracy: 98.4%\n",
      "\n",
      "Epoch 31 completed in 56.52 seconds\n",
      "Training Loss: 0.0727, Training Accuracy: 0.9792\n",
      "Validation Loss: 0.0716, Validation Accuracy: 0.9842\n",
      "\n",
      "Epoch 32\n",
      "-------------------------------\n",
      "loss: 0.036871  [    0/12257]\n",
      "loss: 0.060349  [ 6400/12257]\n",
      "Avg loss: 0.063957, Accuracy: 98.6%\n",
      "\n",
      "Epoch 32 completed in 57.40 seconds\n",
      "Training Loss: 0.0623, Training Accuracy: 0.9832\n",
      "Validation Loss: 0.0640, Validation Accuracy: 0.9856\n",
      "\n",
      "Epoch 33\n",
      "-------------------------------\n",
      "loss: 0.049335  [    0/12257]\n",
      "loss: 0.023741  [ 6400/12257]\n",
      "Avg loss: 0.082643, Accuracy: 98.1%\n",
      "\n",
      "Epoch 33 completed in 56.89 seconds\n",
      "Training Loss: 0.0684, Training Accuracy: 0.9812\n",
      "Validation Loss: 0.0826, Validation Accuracy: 0.9808\n",
      "\n",
      "Epoch 34\n",
      "-------------------------------\n",
      "loss: 0.069410  [    0/12257]\n",
      "loss: 0.046013  [ 6400/12257]\n",
      "Avg loss: 0.049493, Accuracy: 98.6%\n",
      "\n",
      "Epoch 34 completed in 56.58 seconds\n",
      "Training Loss: 0.0442, Training Accuracy: 0.9887\n",
      "Validation Loss: 0.0495, Validation Accuracy: 0.9863\n",
      "\n",
      "Epoch 35\n",
      "-------------------------------\n",
      "loss: 0.047046  [    0/12257]\n",
      "loss: 0.024300  [ 6400/12257]\n",
      "Avg loss: 0.042451, Accuracy: 99.0%\n",
      "\n",
      "Epoch 35 completed in 57.24 seconds\n",
      "Training Loss: 0.0338, Training Accuracy: 0.9905\n",
      "Validation Loss: 0.0425, Validation Accuracy: 0.9904\n",
      "\n",
      "Epoch 36\n",
      "-------------------------------\n",
      "loss: 0.018518  [    0/12257]\n",
      "loss: 0.012870  [ 6400/12257]\n",
      "Avg loss: 0.048791, Accuracy: 98.8%\n",
      "\n",
      "Epoch 36 completed in 57.74 seconds\n",
      "Training Loss: 0.0372, Training Accuracy: 0.9903\n",
      "Validation Loss: 0.0488, Validation Accuracy: 0.9877\n",
      "\n",
      "Epoch 37\n",
      "-------------------------------\n",
      "loss: 0.015300  [    0/12257]\n",
      "loss: 0.013408  [ 6400/12257]\n",
      "Avg loss: 0.048879, Accuracy: 98.7%\n",
      "\n",
      "Epoch 37 completed in 59.34 seconds\n",
      "Training Loss: 0.0293, Training Accuracy: 0.9924\n",
      "Validation Loss: 0.0489, Validation Accuracy: 0.9870\n",
      "\n",
      "Epoch 38\n",
      "-------------------------------\n",
      "loss: 0.010908  [    0/12257]\n",
      "loss: 0.010272  [ 6400/12257]\n",
      "Avg loss: 0.051463, Accuracy: 98.6%\n",
      "\n",
      "Epoch 38 completed in 57.09 seconds\n",
      "Training Loss: 0.0302, Training Accuracy: 0.9926\n",
      "Validation Loss: 0.0515, Validation Accuracy: 0.9863\n",
      "\n",
      "Epoch 39\n",
      "-------------------------------\n",
      "loss: 0.019824  [    0/12257]\n",
      "loss: 0.038535  [ 6400/12257]\n",
      "Avg loss: 0.046203, Accuracy: 99.0%\n",
      "\n",
      "Epoch 39 completed in 56.66 seconds\n",
      "Training Loss: 0.0325, Training Accuracy: 0.9919\n",
      "Validation Loss: 0.0462, Validation Accuracy: 0.9904\n",
      "\n",
      "Epoch 40\n",
      "-------------------------------\n",
      "loss: 0.114373  [    0/12257]\n",
      "loss: 0.048482  [ 6400/12257]\n",
      "Avg loss: 0.043322, Accuracy: 99.0%\n",
      "\n",
      "Epoch 40 completed in 57.37 seconds\n",
      "Training Loss: 0.0314, Training Accuracy: 0.9918\n",
      "Validation Loss: 0.0433, Validation Accuracy: 0.9904\n",
      "\n",
      "\n",
      "Best model saved with metrics:\n",
      "epoch: 23\n",
      "train_loss: 0.10625893689440973\n",
      "val_loss: 0.18103567865486825\n",
      "train_accuracy: 0.9684262054336298\n",
      "val_accuracy: 0.9574759945130316\n",
      "\n",
      "Training complete in 2326.05 seconds\n",
      "\n",
      "-------------------------------\n",
      "Done!\n"
     ]
    }
   ],
   "source": [
    "torch.cuda.empty_cache()\n",
    "\n",
    "for epoch in range(EPOCHS):\n",
    "    print(f\"Epoch {epoch+1}\\n-------------------------------\")\n",
    "    epoch_start_time = time.time()\n",
    "\n",
    "    # Execute the training loop and retrieve training loss and accuracy\n",
    "    train_loss, train_accuracy = train_loop(train_loader, model, loss_fn, optimizer)\n",
    "\n",
    "    scheduler.step(train_loss)\n",
    "\n",
    "    # Execute the validation loop and retrieve validation loss and accuracy\n",
    "    val_loss, val_accuracy = test_loop(val_loader, model, loss_fn)\n",
    "\n",
    "    epoch_time = time.time() - epoch_start_time\n",
    "    epoch_times.append(epoch_time)\n",
    "\n",
    "    # Append training and validation metrics to their respective lists\n",
    "    train_losses.append(train_loss)\n",
    "    val_losses.append(val_loss)\n",
    "    train_accuracies.append(train_accuracy)\n",
    "    val_accuracies.append(val_accuracy)\n",
    "\n",
    "    print(f\"Epoch {epoch+1} completed in {epoch_time:.2f} seconds\")\n",
    "    print(f\"Training Loss: {train_loss:.4f}, Training Accuracy: {train_accuracy:.4f}\")\n",
    "    print(f\"Validation Loss: {val_loss:.4f}, Validation Accuracy: {val_accuracy:.4f}\\n\")\n",
    "\n",
    "    # Increment overfitting counter if overfitting detected\n",
    "    if check_overfitting(train_loss, val_loss, train_accuracy, val_accuracy):\n",
    "        is_overfitting += 1\n",
    "    else:\n",
    "        is_overfitting = 0\n",
    "\n",
    "    #  Check all conditions\n",
    "    accuracy_gap = abs(train_accuracy - val_accuracy)\n",
    "    conditions_met = (\n",
    "        train_loss >= 0.1 and\n",
    "        val_loss >= 0.1 and\n",
    "        train_accuracy <= 0.975 and\n",
    "        val_accuracy <= 0.975 and\n",
    "        accuracy_gap <= 0.07\n",
    "    )\n",
    "\n",
    "    # Save model if conditions are met and validation loss improved\n",
    "    if train_loss >= 0.1 and train_accuracy <= 0.975:\n",
    "        best_model_metrics = {\n",
    "            'epoch': epoch + 1,\n",
    "            'train_loss': train_loss,\n",
    "            'val_loss': val_loss,\n",
    "            'train_accuracy': train_accuracy,\n",
    "            'val_accuracy': val_accuracy\n",
    "        }\n",
    "        torch.save(model.state_dict(), '../data/models/best_symbol_classifier.pth')\n",
    "\n",
    "    # Stop if overfitting persists for multiple epochs\n",
    "    if is_overfitting >= patience:\n",
    "        print(f\"Early stopping triggered due to persistent overfitting.\")\n",
    "        stopped_early = True\n",
    "        break\n",
    "\n",
    "total_training_time = time.time() - total_start_time\n",
    "\n",
    "# Save both models\n",
    "torch.save(model.state_dict(), '../data/models/full_symbol_classifier.pth')\n",
    "\n",
    "if best_model_metrics:\n",
    "    print(\"\\nBest model saved with metrics:\")\n",
    "    for key, value in best_model_metrics.items():\n",
    "        print(f\"{key}: {value}\")\n",
    "\n",
    "print(f\"\\nTraining complete in {total_training_time:.2f} seconds\")\n",
    "print(\"\\n-------------------------------\\nDone!\")"
   ]
  },
  {
   "cell_type": "markdown",
   "metadata": {},
   "source": [
    "# 7. Plot model metrics"
   ]
  },
  {
   "cell_type": "code",
   "execution_count": 28,
   "metadata": {},
   "outputs": [],
   "source": [
    "epochs_range = range(1, len(train_losses) + 1)"
   ]
  },
  {
   "cell_type": "markdown",
   "metadata": {},
   "source": [
    "## 7.1. Loss graph"
   ]
  },
  {
   "cell_type": "code",
   "execution_count": 29,
   "metadata": {},
   "outputs": [
    {
     "data": {
      "image/png": "[encoded data removed]",
      "text/plain": [
       "<Figure size 1000x500 with 1 Axes>"
      ]
     },
     "metadata": {},
     "output_type": "display_data"
    }
   ],
   "source": [
    "# Plot losses for validation and training datasets\n",
    "plt.figure(figsize=(10, 5))\n",
    "plt.plot(epochs_range, train_losses, label='Training Loss')\n",
    "plt.plot(epochs_range, val_losses, label='Validation Loss')\n",
    "plt.xlabel('Epochs')\n",
    "plt.ylabel('Loss')\n",
    "plt.title('Training and Validation Loss')\n",
    "plt.legend()\n",
    "plt.show()"
   ]
  },
  {
   "cell_type": "markdown",
   "metadata": {},
   "source": [
    "## 7.2. Accuracy graph"
   ]
  },
  {
   "cell_type": "code",
   "execution_count": 30,
   "metadata": {},
   "outputs": [
    {
     "data": {
      "image/png": "[encoded data removed]",
      "text/plain": [
       "<Figure size 1000x500 with 1 Axes>"
      ]
     },
     "metadata": {},
     "output_type": "display_data"
    }
   ],
   "source": [
    "# Plot accuracies for validation and training datasets\n",
    "plt.figure(figsize=(10, 5))\n",
    "plt.plot(epochs_range, train_accuracies, label='Training Accuracy')\n",
    "plt.plot(epochs_range, val_accuracies, label='Validation Accuracy')\n",
    "plt.xlabel('Epochs')\n",
    "plt.ylabel('Accuracy')\n",
    "plt.title('Training and Validation Accuracy')\n",
    "plt.legend()\n",
    "plt.show()"
   ]
  },
  {
   "cell_type": "markdown",
   "metadata": {},
   "source": [
    "## 7.3. Epoch duration graph"
   ]
  },
  {
   "cell_type": "code",
   "execution_count": 31,
   "metadata": {},
   "outputs": [
    {
     "data": {
      "image/png": "[encoded data removed]",
      "text/plain": [
       "<Figure size 1000x500 with 1 Axes>"
      ]
     },
     "metadata": {},
     "output_type": "display_data"
    }
   ],
   "source": [
    "# Plot time taken per epoch\n",
    "plt.figure(figsize=(10, 5))\n",
    "plt.plot(epochs_range, epoch_times, label='Time per Epoch')\n",
    "plt.xlabel('Epochs')\n",
    "plt.ylabel('Time (seconds)')\n",
    "plt.title('Time Taken per Epoch')\n",
    "plt.legend()\n",
    "plt.show()"
   ]
  }
 ],
 "metadata": {
  "kernelspec": {
   "display_name": "Python 3 (ipykernel)",
   "language": "python",
   "name": "python3"
  },
  "language_info": {
   "codemirror_mode": {
    "name": "ipython",
    "version": 3
   },
   "file_extension": ".py",
   "mimetype": "text/x-python",
   "name": "python",
   "nbconvert_exporter": "python",
   "pygments_lexer": "ipython3",
   "version": "3.10.12"
  }
 },
 "nbformat": 4,
 "nbformat_minor": 4
}
